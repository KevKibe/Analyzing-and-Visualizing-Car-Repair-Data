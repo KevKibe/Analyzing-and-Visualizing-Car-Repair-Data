{
 "cells": [
  {
   "cell_type": "code",
   "execution_count": 1,
   "id": "2de63ae0",
   "metadata": {},
   "outputs": [],
   "source": [
    "import pandas as pd\n",
    "import numpy as np\n",
    "import seaborn as sns\n",
    "%matplotlib inline\n",
    "import matplotlib.pyplot as plt"
   ]
  },
  {
   "cell_type": "code",
   "execution_count": 2,
   "id": "ea6c0f64",
   "metadata": {},
   "outputs": [],
   "source": [
    "repair_data = pd.read_excel(\"C:\\\\Users\\\\kibe\\\\Downloads\\\\RepairData.xlsx\")"
   ]
  },
  {
   "cell_type": "code",
   "execution_count": 3,
   "id": "cdf9cb4c",
   "metadata": {},
   "outputs": [
    {
     "data": {
      "text/html": [
       "<div>\n",
       "<style scoped>\n",
       "    .dataframe tbody tr th:only-of-type {\n",
       "        vertical-align: middle;\n",
       "    }\n",
       "\n",
       "    .dataframe tbody tr th {\n",
       "        vertical-align: top;\n",
       "    }\n",
       "\n",
       "    .dataframe thead th {\n",
       "        text-align: right;\n",
       "    }\n",
       "</style>\n",
       "<table border=\"1\" class=\"dataframe\">\n",
       "  <thead>\n",
       "    <tr style=\"text-align: right;\">\n",
       "      <th></th>\n",
       "      <th>Transaction ID</th>\n",
       "      <th>Transaction Date</th>\n",
       "      <th>Account Name</th>\n",
       "      <th>Transaction Description</th>\n",
       "      <th>Transaction Line Description</th>\n",
       "      <th>Amount (One column)</th>\n",
       "      <th></th>\n",
       "      <th>Debit Amount (Two Column Approach)</th>\n",
       "      <th>Credit Amount (Two Column Approach)</th>\n",
       "      <th>Other Accounts for this Transaction</th>\n",
       "      <th>...</th>\n",
       "      <th>Bill Number</th>\n",
       "      <th>Notes / Memo</th>\n",
       "      <th>Amount Before Sales Tax</th>\n",
       "      <th>Sales Tax Amount</th>\n",
       "      <th>Sales Tax Name</th>\n",
       "      <th>Transaction Date Added</th>\n",
       "      <th>Transaction Date Last Modified</th>\n",
       "      <th>Account Group</th>\n",
       "      <th>Account Type</th>\n",
       "      <th>Account ID</th>\n",
       "    </tr>\n",
       "  </thead>\n",
       "  <tbody>\n",
       "    <tr>\n",
       "      <th>0</th>\n",
       "      <td>6.274847e+17</td>\n",
       "      <td>2019-02-04</td>\n",
       "      <td>Parts &amp; Materials Sales</td>\n",
       "      <td>KBU 765H - 35</td>\n",
       "      <td>KBU 765H - 35 - Workshop engine oil</td>\n",
       "      <td>2730.0</td>\n",
       "      <td>NaN</td>\n",
       "      <td>NaN</td>\n",
       "      <td>2730.0</td>\n",
       "      <td>Accounts Receivable</td>\n",
       "      <td>...</td>\n",
       "      <td>NaN</td>\n",
       "      <td>NaN</td>\n",
       "      <td>2730.0</td>\n",
       "      <td>NaN</td>\n",
       "      <td>NaN</td>\n",
       "      <td>2019-03-04</td>\n",
       "      <td>2022-05-26</td>\n",
       "      <td>Income</td>\n",
       "      <td>Income</td>\n",
       "      <td>NaN</td>\n",
       "    </tr>\n",
       "    <tr>\n",
       "      <th>1</th>\n",
       "      <td>6.274847e+17</td>\n",
       "      <td>2019-02-04</td>\n",
       "      <td>Parts &amp; Materials Sales</td>\n",
       "      <td>KBU 765H - 35</td>\n",
       "      <td>KBU 765H - 35 - Nissan Oil Filters</td>\n",
       "      <td>650.0</td>\n",
       "      <td>NaN</td>\n",
       "      <td>NaN</td>\n",
       "      <td>650.0</td>\n",
       "      <td>Accounts Receivable</td>\n",
       "      <td>...</td>\n",
       "      <td>NaN</td>\n",
       "      <td>NaN</td>\n",
       "      <td>650.0</td>\n",
       "      <td>NaN</td>\n",
       "      <td>NaN</td>\n",
       "      <td>2019-03-04</td>\n",
       "      <td>2022-05-26</td>\n",
       "      <td>Income</td>\n",
       "      <td>Income</td>\n",
       "      <td>NaN</td>\n",
       "    </tr>\n",
       "    <tr>\n",
       "      <th>2</th>\n",
       "      <td>6.274847e+17</td>\n",
       "      <td>2019-02-04</td>\n",
       "      <td>Parts &amp; Materials Sales</td>\n",
       "      <td>KBU 765H - 35</td>\n",
       "      <td>KBU 765H - 35 - Nissan Aircleaner</td>\n",
       "      <td>1200.0</td>\n",
       "      <td>NaN</td>\n",
       "      <td>NaN</td>\n",
       "      <td>1200.0</td>\n",
       "      <td>Accounts Receivable</td>\n",
       "      <td>...</td>\n",
       "      <td>NaN</td>\n",
       "      <td>NaN</td>\n",
       "      <td>1200.0</td>\n",
       "      <td>NaN</td>\n",
       "      <td>NaN</td>\n",
       "      <td>2019-03-04</td>\n",
       "      <td>2022-05-26</td>\n",
       "      <td>Income</td>\n",
       "      <td>Income</td>\n",
       "      <td>NaN</td>\n",
       "    </tr>\n",
       "    <tr>\n",
       "      <th>3</th>\n",
       "      <td>6.274847e+17</td>\n",
       "      <td>2019-02-04</td>\n",
       "      <td>Parts &amp; Materials Sales</td>\n",
       "      <td>KBU 765H - 35</td>\n",
       "      <td>KBU 765H - 35 - Nissan Diesel / Fuel Filters</td>\n",
       "      <td>1400.0</td>\n",
       "      <td>NaN</td>\n",
       "      <td>NaN</td>\n",
       "      <td>1400.0</td>\n",
       "      <td>Accounts Receivable</td>\n",
       "      <td>...</td>\n",
       "      <td>NaN</td>\n",
       "      <td>NaN</td>\n",
       "      <td>1400.0</td>\n",
       "      <td>NaN</td>\n",
       "      <td>NaN</td>\n",
       "      <td>2019-03-04</td>\n",
       "      <td>2022-05-26</td>\n",
       "      <td>Income</td>\n",
       "      <td>Income</td>\n",
       "      <td>NaN</td>\n",
       "    </tr>\n",
       "    <tr>\n",
       "      <th>4</th>\n",
       "      <td>6.274847e+17</td>\n",
       "      <td>2019-02-04</td>\n",
       "      <td>Parts &amp; Materials Sales</td>\n",
       "      <td>KBU 765H - 35</td>\n",
       "      <td>KBU 765H - 35 - Nissan fan belts</td>\n",
       "      <td>3515.0</td>\n",
       "      <td>NaN</td>\n",
       "      <td>NaN</td>\n",
       "      <td>3515.0</td>\n",
       "      <td>Accounts Receivable</td>\n",
       "      <td>...</td>\n",
       "      <td>NaN</td>\n",
       "      <td>NaN</td>\n",
       "      <td>3515.0</td>\n",
       "      <td>NaN</td>\n",
       "      <td>NaN</td>\n",
       "      <td>2019-03-04</td>\n",
       "      <td>2022-05-26</td>\n",
       "      <td>Income</td>\n",
       "      <td>Income</td>\n",
       "      <td>NaN</td>\n",
       "    </tr>\n",
       "  </tbody>\n",
       "</table>\n",
       "<p>5 rows × 23 columns</p>\n",
       "</div>"
      ],
      "text/plain": [
       "   Transaction ID Transaction Date             Account Name  \\\n",
       "0    6.274847e+17       2019-02-04  Parts & Materials Sales   \n",
       "1    6.274847e+17       2019-02-04  Parts & Materials Sales   \n",
       "2    6.274847e+17       2019-02-04  Parts & Materials Sales   \n",
       "3    6.274847e+17       2019-02-04  Parts & Materials Sales   \n",
       "4    6.274847e+17       2019-02-04  Parts & Materials Sales   \n",
       "\n",
       "  Transaction Description                  Transaction Line Description  \\\n",
       "0           KBU 765H - 35           KBU 765H - 35 - Workshop engine oil   \n",
       "1           KBU 765H - 35            KBU 765H - 35 - Nissan Oil Filters   \n",
       "2           KBU 765H - 35             KBU 765H - 35 - Nissan Aircleaner   \n",
       "3           KBU 765H - 35  KBU 765H - 35 - Nissan Diesel / Fuel Filters   \n",
       "4           KBU 765H - 35              KBU 765H - 35 - Nissan fan belts   \n",
       "\n",
       "   Amount (One column)      Debit Amount (Two Column Approach)  \\\n",
       "0               2730.0 NaN                                 NaN   \n",
       "1                650.0 NaN                                 NaN   \n",
       "2               1200.0 NaN                                 NaN   \n",
       "3               1400.0 NaN                                 NaN   \n",
       "4               3515.0 NaN                                 NaN   \n",
       "\n",
       "   Credit Amount (Two Column Approach) Other Accounts for this Transaction  \\\n",
       "0                               2730.0                 Accounts Receivable   \n",
       "1                                650.0                 Accounts Receivable   \n",
       "2                               1200.0                 Accounts Receivable   \n",
       "3                               1400.0                 Accounts Receivable   \n",
       "4                               3515.0                 Accounts Receivable   \n",
       "\n",
       "   ... Bill Number  Notes / Memo  Amount Before Sales Tax  Sales Tax Amount  \\\n",
       "0  ...         NaN           NaN                   2730.0               NaN   \n",
       "1  ...         NaN           NaN                    650.0               NaN   \n",
       "2  ...         NaN           NaN                   1200.0               NaN   \n",
       "3  ...         NaN           NaN                   1400.0               NaN   \n",
       "4  ...         NaN           NaN                   3515.0               NaN   \n",
       "\n",
       "  Sales Tax Name  Transaction Date Added  Transaction Date Last Modified  \\\n",
       "0            NaN              2019-03-04                      2022-05-26   \n",
       "1            NaN              2019-03-04                      2022-05-26   \n",
       "2            NaN              2019-03-04                      2022-05-26   \n",
       "3            NaN              2019-03-04                      2022-05-26   \n",
       "4            NaN              2019-03-04                      2022-05-26   \n",
       "\n",
       "   Account Group Account Type Account ID  \n",
       "0         Income       Income        NaN  \n",
       "1         Income       Income        NaN  \n",
       "2         Income       Income        NaN  \n",
       "3         Income       Income        NaN  \n",
       "4         Income       Income        NaN  \n",
       "\n",
       "[5 rows x 23 columns]"
      ]
     },
     "execution_count": 3,
     "metadata": {},
     "output_type": "execute_result"
    }
   ],
   "source": [
    "repair_data.head()"
   ]
  },
  {
   "cell_type": "code",
   "execution_count": 4,
   "id": "e9ba2ac8",
   "metadata": {},
   "outputs": [
    {
     "name": "stdout",
     "output_type": "stream",
     "text": [
      "<class 'pandas.core.frame.DataFrame'>\n",
      "RangeIndex: 9520 entries, 0 to 9519\n",
      "Data columns (total 23 columns):\n",
      " #   Column                               Non-Null Count  Dtype         \n",
      "---  ------                               --------------  -----         \n",
      " 0   Transaction ID                       9520 non-null   float64       \n",
      " 1   Transaction Date                     9520 non-null   datetime64[ns]\n",
      " 2   Account Name                         9520 non-null   object        \n",
      " 3   Transaction Description              9520 non-null   object        \n",
      " 4   Transaction Line Description         9514 non-null   object        \n",
      " 5   Amount (One column)                  9520 non-null   float64       \n",
      " 6                                        0 non-null      float64       \n",
      " 7   Debit Amount (Two Column Approach)   2932 non-null   float64       \n",
      " 8   Credit Amount (Two Column Approach)  6588 non-null   float64       \n",
      " 9   Other Accounts for this Transaction  9520 non-null   object        \n",
      " 10  Customer                             7923 non-null   object        \n",
      " 11  Vendor                               0 non-null      float64       \n",
      " 12  Invoice Number                       7921 non-null   float64       \n",
      " 13  Bill Number                          0 non-null      float64       \n",
      " 14  Notes / Memo                         3027 non-null   object        \n",
      " 15  Amount Before Sales Tax              9520 non-null   float64       \n",
      " 16  Sales Tax Amount                     0 non-null      float64       \n",
      " 17  Sales Tax Name                       0 non-null      float64       \n",
      " 18  Transaction Date Added               9520 non-null   datetime64[ns]\n",
      " 19  Transaction Date Last Modified       9520 non-null   datetime64[ns]\n",
      " 20  Account Group                        9520 non-null   object        \n",
      " 21  Account Type                         9520 non-null   object        \n",
      " 22  Account ID                           0 non-null      float64       \n",
      "dtypes: datetime64[ns](3), float64(12), object(8)\n",
      "memory usage: 1.7+ MB\n"
     ]
    }
   ],
   "source": [
    "repair_data.info()"
   ]
  },
  {
   "cell_type": "code",
   "execution_count": 5,
   "id": "655ebe11",
   "metadata": {},
   "outputs": [],
   "source": [
    "repair_data_clean = repair_data[['Transaction Description','Transaction Line Description','Amount (One column)','Transaction Date','Invoice Number']].copy()"
   ]
  },
  {
   "cell_type": "code",
   "execution_count": 6,
   "id": "6a856d6b",
   "metadata": {},
   "outputs": [
    {
     "data": {
      "text/html": [
       "<div>\n",
       "<style scoped>\n",
       "    .dataframe tbody tr th:only-of-type {\n",
       "        vertical-align: middle;\n",
       "    }\n",
       "\n",
       "    .dataframe tbody tr th {\n",
       "        vertical-align: top;\n",
       "    }\n",
       "\n",
       "    .dataframe thead th {\n",
       "        text-align: right;\n",
       "    }\n",
       "</style>\n",
       "<table border=\"1\" class=\"dataframe\">\n",
       "  <thead>\n",
       "    <tr style=\"text-align: right;\">\n",
       "      <th></th>\n",
       "      <th>Transaction Description</th>\n",
       "      <th>Transaction Line Description</th>\n",
       "      <th>Amount (One column)</th>\n",
       "      <th>Transaction Date</th>\n",
       "      <th>Invoice Number</th>\n",
       "    </tr>\n",
       "  </thead>\n",
       "  <tbody>\n",
       "    <tr>\n",
       "      <th>0</th>\n",
       "      <td>KBU 765H - 35</td>\n",
       "      <td>KBU 765H - 35 - Workshop engine oil</td>\n",
       "      <td>2730.0</td>\n",
       "      <td>2019-02-04</td>\n",
       "      <td>35.0</td>\n",
       "    </tr>\n",
       "    <tr>\n",
       "      <th>1</th>\n",
       "      <td>KBU 765H - 35</td>\n",
       "      <td>KBU 765H - 35 - Nissan Oil Filters</td>\n",
       "      <td>650.0</td>\n",
       "      <td>2019-02-04</td>\n",
       "      <td>35.0</td>\n",
       "    </tr>\n",
       "    <tr>\n",
       "      <th>2</th>\n",
       "      <td>KBU 765H - 35</td>\n",
       "      <td>KBU 765H - 35 - Nissan Aircleaner</td>\n",
       "      <td>1200.0</td>\n",
       "      <td>2019-02-04</td>\n",
       "      <td>35.0</td>\n",
       "    </tr>\n",
       "    <tr>\n",
       "      <th>3</th>\n",
       "      <td>KBU 765H - 35</td>\n",
       "      <td>KBU 765H - 35 - Nissan Diesel / Fuel Filters</td>\n",
       "      <td>1400.0</td>\n",
       "      <td>2019-02-04</td>\n",
       "      <td>35.0</td>\n",
       "    </tr>\n",
       "    <tr>\n",
       "      <th>4</th>\n",
       "      <td>KBU 765H - 35</td>\n",
       "      <td>KBU 765H - 35 - Nissan fan belts</td>\n",
       "      <td>3515.0</td>\n",
       "      <td>2019-02-04</td>\n",
       "      <td>35.0</td>\n",
       "    </tr>\n",
       "  </tbody>\n",
       "</table>\n",
       "</div>"
      ],
      "text/plain": [
       "  Transaction Description                  Transaction Line Description  \\\n",
       "0           KBU 765H - 35           KBU 765H - 35 - Workshop engine oil   \n",
       "1           KBU 765H - 35            KBU 765H - 35 - Nissan Oil Filters   \n",
       "2           KBU 765H - 35             KBU 765H - 35 - Nissan Aircleaner   \n",
       "3           KBU 765H - 35  KBU 765H - 35 - Nissan Diesel / Fuel Filters   \n",
       "4           KBU 765H - 35              KBU 765H - 35 - Nissan fan belts   \n",
       "\n",
       "   Amount (One column) Transaction Date  Invoice Number  \n",
       "0               2730.0       2019-02-04            35.0  \n",
       "1                650.0       2019-02-04            35.0  \n",
       "2               1200.0       2019-02-04            35.0  \n",
       "3               1400.0       2019-02-04            35.0  \n",
       "4               3515.0       2019-02-04            35.0  "
      ]
     },
     "execution_count": 6,
     "metadata": {},
     "output_type": "execute_result"
    }
   ],
   "source": [
    "repair_data_clean.head()"
   ]
  },
  {
   "cell_type": "code",
   "execution_count": 7,
   "id": "890e69cc",
   "metadata": {},
   "outputs": [
    {
     "name": "stdout",
     "output_type": "stream",
     "text": [
      "<class 'pandas.core.frame.DataFrame'>\n",
      "RangeIndex: 9520 entries, 0 to 9519\n",
      "Data columns (total 5 columns):\n",
      " #   Column                        Non-Null Count  Dtype         \n",
      "---  ------                        --------------  -----         \n",
      " 0   Transaction Description       9520 non-null   object        \n",
      " 1   Transaction Line Description  9514 non-null   object        \n",
      " 2   Amount (One column)           9520 non-null   float64       \n",
      " 3   Transaction Date              9520 non-null   datetime64[ns]\n",
      " 4   Invoice Number                7921 non-null   float64       \n",
      "dtypes: datetime64[ns](1), float64(2), object(2)\n",
      "memory usage: 372.0+ KB\n"
     ]
    }
   ],
   "source": [
    "repair_data_clean.info()"
   ]
  },
  {
   "cell_type": "code",
   "execution_count": 8,
   "id": "3c74b858",
   "metadata": {},
   "outputs": [],
   "source": [
    "#RENAMING COLUMN NAMES\n",
    "repair_data_clean.rename(columns= {'Transaction Line Description':'Repair_Info'}, inplace= True) \n",
    "repair_data_clean.rename(columns= {'Amount (One column)':'Cost'}, inplace= True)\n",
    "repair_data_clean.rename(columns= {'Transaction Date':'Date'}, inplace= True) \n",
    "repair_data_clean.rename(columns= {'Transaction Description':'Vehicle_Registration'}, inplace= True) \n",
    "repair_data_clean.rename(columns= {'Invoice Number':'Invoice_Number'}, inplace= True) "
   ]
  },
  {
   "cell_type": "code",
   "execution_count": 9,
   "id": "a21b380d",
   "metadata": {},
   "outputs": [
    {
     "name": "stdout",
     "output_type": "stream",
     "text": [
      "<class 'pandas.core.frame.DataFrame'>\n",
      "RangeIndex: 9520 entries, 0 to 9519\n",
      "Data columns (total 5 columns):\n",
      " #   Column                Non-Null Count  Dtype         \n",
      "---  ------                --------------  -----         \n",
      " 0   Vehicle_Registration  9520 non-null   object        \n",
      " 1   Repair_Info           9514 non-null   object        \n",
      " 2   Cost                  9520 non-null   float64       \n",
      " 3   Date                  9520 non-null   datetime64[ns]\n",
      " 4   Invoice_Number        7921 non-null   float64       \n",
      "dtypes: datetime64[ns](1), float64(2), object(2)\n",
      "memory usage: 372.0+ KB\n"
     ]
    }
   ],
   "source": [
    "repair_data_clean.info()"
   ]
  },
  {
   "cell_type": "code",
   "execution_count": 10,
   "id": "f6623495",
   "metadata": {},
   "outputs": [
    {
     "name": "stdout",
     "output_type": "stream",
     "text": [
      "<class 'pandas.core.series.Series'>\n",
      "RangeIndex: 9520 entries, 0 to 9519\n",
      "Series name: Repair_Info\n",
      "Non-Null Count  Dtype \n",
      "--------------  ----- \n",
      "9514 non-null   object\n",
      "dtypes: object(1)\n",
      "memory usage: 74.5+ KB\n"
     ]
    }
   ],
   "source": [
    "#checking for null values\n",
    "repair_data_clean['Repair_Info'].info()"
   ]
  },
  {
   "cell_type": "code",
   "execution_count": 11,
   "id": "6116f258",
   "metadata": {},
   "outputs": [
    {
     "data": {
      "text/plain": [
       "0    KBU 765H - 35\n",
       "1    KBU 765H - 35\n",
       "2    KBU 765H - 35\n",
       "3    KBU 765H - 35\n",
       "4    KBU 765H - 35\n",
       "Name: Vehicle_Registration, dtype: object"
      ]
     },
     "execution_count": 11,
     "metadata": {},
     "output_type": "execute_result"
    }
   ],
   "source": [
    "repair_data_clean['Vehicle_Registration'].head()"
   ]
  },
  {
   "cell_type": "code",
   "execution_count": 12,
   "id": "c8de8c2c",
   "metadata": {},
   "outputs": [
    {
     "data": {
      "text/plain": [
       "0         KBU 765H - 35\n",
       "1         KBU 765H - 35\n",
       "2         KBU 765H - 35\n",
       "3         KBU 765H - 35\n",
       "4         KBU 765H - 35\n",
       "             ...       \n",
       "9515    KCW 240A - 1398\n",
       "9516    KCW 240A - 1398\n",
       "9517    KCW 240A - 1398\n",
       "9518    Invoice Payment\n",
       "9519    Invoice Payment\n",
       "Name: Vehicle_Registration, Length: 9520, dtype: object"
      ]
     },
     "execution_count": 12,
     "metadata": {},
     "output_type": "execute_result"
    }
   ],
   "source": [
    "repair_data_clean.Vehicle_Registration"
   ]
  },
  {
   "cell_type": "code",
   "execution_count": 13,
   "id": "8561a608",
   "metadata": {},
   "outputs": [
    {
     "data": {
      "text/html": [
       "<div>\n",
       "<style scoped>\n",
       "    .dataframe tbody tr th:only-of-type {\n",
       "        vertical-align: middle;\n",
       "    }\n",
       "\n",
       "    .dataframe tbody tr th {\n",
       "        vertical-align: top;\n",
       "    }\n",
       "\n",
       "    .dataframe thead th {\n",
       "        text-align: right;\n",
       "    }\n",
       "</style>\n",
       "<table border=\"1\" class=\"dataframe\">\n",
       "  <thead>\n",
       "    <tr style=\"text-align: right;\">\n",
       "      <th></th>\n",
       "      <th>Vehicle_Registration</th>\n",
       "      <th>Repair_Info</th>\n",
       "      <th>Cost</th>\n",
       "      <th>Date</th>\n",
       "      <th>Invoice_Number</th>\n",
       "      <th>New_Repair_Info</th>\n",
       "    </tr>\n",
       "  </thead>\n",
       "  <tbody>\n",
       "    <tr>\n",
       "      <th>0</th>\n",
       "      <td>KBU 765H - 35</td>\n",
       "      <td>KBU 765H - 35 - Workshop engine oil</td>\n",
       "      <td>2730.0</td>\n",
       "      <td>2019-02-04</td>\n",
       "      <td>35.0</td>\n",
       "      <td>- Workshop engine oil</td>\n",
       "    </tr>\n",
       "    <tr>\n",
       "      <th>1</th>\n",
       "      <td>KBU 765H - 35</td>\n",
       "      <td>KBU 765H - 35 - Nissan Oil Filters</td>\n",
       "      <td>650.0</td>\n",
       "      <td>2019-02-04</td>\n",
       "      <td>35.0</td>\n",
       "      <td>- Nissan Oil Filters</td>\n",
       "    </tr>\n",
       "    <tr>\n",
       "      <th>2</th>\n",
       "      <td>KBU 765H - 35</td>\n",
       "      <td>KBU 765H - 35 - Nissan Aircleaner</td>\n",
       "      <td>1200.0</td>\n",
       "      <td>2019-02-04</td>\n",
       "      <td>35.0</td>\n",
       "      <td>- Nissan Aircleaner</td>\n",
       "    </tr>\n",
       "    <tr>\n",
       "      <th>3</th>\n",
       "      <td>KBU 765H - 35</td>\n",
       "      <td>KBU 765H - 35 - Nissan Diesel / Fuel Filters</td>\n",
       "      <td>1400.0</td>\n",
       "      <td>2019-02-04</td>\n",
       "      <td>35.0</td>\n",
       "      <td>- Nissan Diesel / Fuel Filters</td>\n",
       "    </tr>\n",
       "    <tr>\n",
       "      <th>4</th>\n",
       "      <td>KBU 765H - 35</td>\n",
       "      <td>KBU 765H - 35 - Nissan fan belts</td>\n",
       "      <td>3515.0</td>\n",
       "      <td>2019-02-04</td>\n",
       "      <td>35.0</td>\n",
       "      <td>- Nissan fan belts</td>\n",
       "    </tr>\n",
       "  </tbody>\n",
       "</table>\n",
       "</div>"
      ],
      "text/plain": [
       "  Vehicle_Registration                                   Repair_Info    Cost  \\\n",
       "0        KBU 765H - 35           KBU 765H - 35 - Workshop engine oil  2730.0   \n",
       "1        KBU 765H - 35            KBU 765H - 35 - Nissan Oil Filters   650.0   \n",
       "2        KBU 765H - 35             KBU 765H - 35 - Nissan Aircleaner  1200.0   \n",
       "3        KBU 765H - 35  KBU 765H - 35 - Nissan Diesel / Fuel Filters  1400.0   \n",
       "4        KBU 765H - 35              KBU 765H - 35 - Nissan fan belts  3515.0   \n",
       "\n",
       "        Date  Invoice_Number                 New_Repair_Info  \n",
       "0 2019-02-04            35.0           - Workshop engine oil  \n",
       "1 2019-02-04            35.0            - Nissan Oil Filters  \n",
       "2 2019-02-04            35.0             - Nissan Aircleaner  \n",
       "3 2019-02-04            35.0  - Nissan Diesel / Fuel Filters  \n",
       "4 2019-02-04            35.0              - Nissan fan belts  "
      ]
     },
     "execution_count": 13,
     "metadata": {},
     "output_type": "execute_result"
    }
   ],
   "source": [
    "#cleaning the repair info column\n",
    "repair_data_clean['New_Repair_Info']=repair_data_clean['Repair_Info'].str[14:]\n",
    "repair_data_clean.head()"
   ]
  },
  {
   "cell_type": "code",
   "execution_count": 14,
   "id": "6d24782f",
   "metadata": {},
   "outputs": [
    {
     "data": {
      "text/html": [
       "<div>\n",
       "<style scoped>\n",
       "    .dataframe tbody tr th:only-of-type {\n",
       "        vertical-align: middle;\n",
       "    }\n",
       "\n",
       "    .dataframe tbody tr th {\n",
       "        vertical-align: top;\n",
       "    }\n",
       "\n",
       "    .dataframe thead th {\n",
       "        text-align: right;\n",
       "    }\n",
       "</style>\n",
       "<table border=\"1\" class=\"dataframe\">\n",
       "  <thead>\n",
       "    <tr style=\"text-align: right;\">\n",
       "      <th></th>\n",
       "      <th>Vehicle_Registration</th>\n",
       "      <th>Cost</th>\n",
       "      <th>Date</th>\n",
       "      <th>Invoice_Number</th>\n",
       "      <th>Repair_Info</th>\n",
       "    </tr>\n",
       "  </thead>\n",
       "  <tbody>\n",
       "    <tr>\n",
       "      <th>0</th>\n",
       "      <td>KBU 765H - 35</td>\n",
       "      <td>2730.0</td>\n",
       "      <td>2019-02-04</td>\n",
       "      <td>35.0</td>\n",
       "      <td>- Workshop engine oil</td>\n",
       "    </tr>\n",
       "    <tr>\n",
       "      <th>1</th>\n",
       "      <td>KBU 765H - 35</td>\n",
       "      <td>650.0</td>\n",
       "      <td>2019-02-04</td>\n",
       "      <td>35.0</td>\n",
       "      <td>- Nissan Oil Filters</td>\n",
       "    </tr>\n",
       "    <tr>\n",
       "      <th>2</th>\n",
       "      <td>KBU 765H - 35</td>\n",
       "      <td>1200.0</td>\n",
       "      <td>2019-02-04</td>\n",
       "      <td>35.0</td>\n",
       "      <td>- Nissan Aircleaner</td>\n",
       "    </tr>\n",
       "    <tr>\n",
       "      <th>3</th>\n",
       "      <td>KBU 765H - 35</td>\n",
       "      <td>1400.0</td>\n",
       "      <td>2019-02-04</td>\n",
       "      <td>35.0</td>\n",
       "      <td>- Nissan Diesel / Fuel Filters</td>\n",
       "    </tr>\n",
       "    <tr>\n",
       "      <th>4</th>\n",
       "      <td>KBU 765H - 35</td>\n",
       "      <td>3515.0</td>\n",
       "      <td>2019-02-04</td>\n",
       "      <td>35.0</td>\n",
       "      <td>- Nissan fan belts</td>\n",
       "    </tr>\n",
       "  </tbody>\n",
       "</table>\n",
       "</div>"
      ],
      "text/plain": [
       "  Vehicle_Registration    Cost       Date  Invoice_Number  \\\n",
       "0        KBU 765H - 35  2730.0 2019-02-04            35.0   \n",
       "1        KBU 765H - 35   650.0 2019-02-04            35.0   \n",
       "2        KBU 765H - 35  1200.0 2019-02-04            35.0   \n",
       "3        KBU 765H - 35  1400.0 2019-02-04            35.0   \n",
       "4        KBU 765H - 35  3515.0 2019-02-04            35.0   \n",
       "\n",
       "                      Repair_Info  \n",
       "0           - Workshop engine oil  \n",
       "1            - Nissan Oil Filters  \n",
       "2             - Nissan Aircleaner  \n",
       "3  - Nissan Diesel / Fuel Filters  \n",
       "4              - Nissan fan belts  "
      ]
     },
     "execution_count": 14,
     "metadata": {},
     "output_type": "execute_result"
    }
   ],
   "source": [
    "#Deleting the old repair information column\n",
    "del repair_data_clean['Repair_Info']\n",
    "#renaming the new repair information column\n",
    "repair_data_clean.rename(columns= {'New_Repair_Info':'Repair_Info'}, inplace= True) \n",
    "repair_data_clean.head()"
   ]
  },
  {
   "cell_type": "code",
   "execution_count": 15,
   "id": "8e8c1e7e",
   "metadata": {},
   "outputs": [
    {
     "data": {
      "text/plain": [
       "0         KBU 765H - 35\n",
       "1         KBU 765H - 35\n",
       "2         KBU 765H - 35\n",
       "3         KBU 765H - 35\n",
       "4         KBU 765H - 35\n",
       "             ...       \n",
       "9515    KCW 240A - 1398\n",
       "9516    KCW 240A - 1398\n",
       "9517    KCW 240A - 1398\n",
       "9518    Invoice Payment\n",
       "9519    Invoice Payment\n",
       "Name: Vehicle_Registration, Length: 9520, dtype: object"
      ]
     },
     "execution_count": 15,
     "metadata": {},
     "output_type": "execute_result"
    }
   ],
   "source": [
    "repair_data_clean.Vehicle_Registration"
   ]
  },
  {
   "cell_type": "code",
   "execution_count": 16,
   "id": "7b00aaaf",
   "metadata": {},
   "outputs": [
    {
     "data": {
      "text/plain": [
       "0         KBU 765H - 35\n",
       "1         KBU 765H - 35\n",
       "2         KBU 765H - 35\n",
       "3         KBU 765H - 35\n",
       "4         KBU 765H - 35\n",
       "             ...       \n",
       "9515    KCW 240A - 1398\n",
       "9516    KCW 240A - 1398\n",
       "9517    KCW 240A - 1398\n",
       "9518    Invoice Payment\n",
       "9519    Invoice Payment\n",
       "Name: Vehicle_Registration, Length: 9520, dtype: object"
      ]
     },
     "execution_count": 16,
     "metadata": {},
     "output_type": "execute_result"
    }
   ],
   "source": [
    "#cleaning vehicle registration to show only the vehicle registration\n",
    "repair_data_clean['vehicle_registration'] = repair_data_clean['Vehicle_Registration'].str[0:8]\n",
    "repair_data_clean.Vehicle_Registration"
   ]
  },
  {
   "cell_type": "code",
   "execution_count": 17,
   "id": "e2eb044d",
   "metadata": {},
   "outputs": [
    {
     "data": {
      "text/html": [
       "<div>\n",
       "<style scoped>\n",
       "    .dataframe tbody tr th:only-of-type {\n",
       "        vertical-align: middle;\n",
       "    }\n",
       "\n",
       "    .dataframe tbody tr th {\n",
       "        vertical-align: top;\n",
       "    }\n",
       "\n",
       "    .dataframe thead th {\n",
       "        text-align: right;\n",
       "    }\n",
       "</style>\n",
       "<table border=\"1\" class=\"dataframe\">\n",
       "  <thead>\n",
       "    <tr style=\"text-align: right;\">\n",
       "      <th></th>\n",
       "      <th>Cost</th>\n",
       "      <th>Date</th>\n",
       "      <th>Invoice_Number</th>\n",
       "      <th>Repair_Info</th>\n",
       "      <th>vehicle_registration</th>\n",
       "    </tr>\n",
       "  </thead>\n",
       "  <tbody>\n",
       "    <tr>\n",
       "      <th>0</th>\n",
       "      <td>2730.0</td>\n",
       "      <td>2019-02-04</td>\n",
       "      <td>35.0</td>\n",
       "      <td>- Workshop engine oil</td>\n",
       "      <td>KBU 765H</td>\n",
       "    </tr>\n",
       "    <tr>\n",
       "      <th>1</th>\n",
       "      <td>650.0</td>\n",
       "      <td>2019-02-04</td>\n",
       "      <td>35.0</td>\n",
       "      <td>- Nissan Oil Filters</td>\n",
       "      <td>KBU 765H</td>\n",
       "    </tr>\n",
       "    <tr>\n",
       "      <th>2</th>\n",
       "      <td>1200.0</td>\n",
       "      <td>2019-02-04</td>\n",
       "      <td>35.0</td>\n",
       "      <td>- Nissan Aircleaner</td>\n",
       "      <td>KBU 765H</td>\n",
       "    </tr>\n",
       "    <tr>\n",
       "      <th>3</th>\n",
       "      <td>1400.0</td>\n",
       "      <td>2019-02-04</td>\n",
       "      <td>35.0</td>\n",
       "      <td>- Nissan Diesel / Fuel Filters</td>\n",
       "      <td>KBU 765H</td>\n",
       "    </tr>\n",
       "    <tr>\n",
       "      <th>4</th>\n",
       "      <td>3515.0</td>\n",
       "      <td>2019-02-04</td>\n",
       "      <td>35.0</td>\n",
       "      <td>- Nissan fan belts</td>\n",
       "      <td>KBU 765H</td>\n",
       "    </tr>\n",
       "  </tbody>\n",
       "</table>\n",
       "</div>"
      ],
      "text/plain": [
       "     Cost       Date  Invoice_Number                     Repair_Info  \\\n",
       "0  2730.0 2019-02-04            35.0           - Workshop engine oil   \n",
       "1   650.0 2019-02-04            35.0            - Nissan Oil Filters   \n",
       "2  1200.0 2019-02-04            35.0             - Nissan Aircleaner   \n",
       "3  1400.0 2019-02-04            35.0  - Nissan Diesel / Fuel Filters   \n",
       "4  3515.0 2019-02-04            35.0              - Nissan fan belts   \n",
       "\n",
       "  vehicle_registration  \n",
       "0             KBU 765H  \n",
       "1             KBU 765H  \n",
       "2             KBU 765H  \n",
       "3             KBU 765H  \n",
       "4             KBU 765H  "
      ]
     },
     "execution_count": 17,
     "metadata": {},
     "output_type": "execute_result"
    }
   ],
   "source": [
    "#to delete the vehicle registration column that was split\n",
    "del repair_data_clean['Vehicle_Registration']\n",
    "repair_data_clean.head()"
   ]
  },
  {
   "cell_type": "code",
   "execution_count": 18,
   "id": "0d7073d0",
   "metadata": {},
   "outputs": [
    {
     "name": "stdout",
     "output_type": "stream",
     "text": [
      "<class 'pandas.core.frame.DataFrame'>\n",
      "RangeIndex: 9520 entries, 0 to 9519\n",
      "Data columns (total 5 columns):\n",
      " #   Column                Non-Null Count  Dtype         \n",
      "---  ------                --------------  -----         \n",
      " 0   Cost                  9520 non-null   float64       \n",
      " 1   Date                  9520 non-null   datetime64[ns]\n",
      " 2   Invoice_Number        7921 non-null   float64       \n",
      " 3   Repair_Info           9514 non-null   object        \n",
      " 4   vehicle_registration  9520 non-null   object        \n",
      "dtypes: datetime64[ns](1), float64(2), object(2)\n",
      "memory usage: 372.0+ KB\n"
     ]
    }
   ],
   "source": [
    "repair_data_clean.info()"
   ]
  },
  {
   "cell_type": "code",
   "execution_count": 19,
   "id": "be42010e",
   "metadata": {},
   "outputs": [
    {
     "data": {
      "text/html": [
       "<div>\n",
       "<style scoped>\n",
       "    .dataframe tbody tr th:only-of-type {\n",
       "        vertical-align: middle;\n",
       "    }\n",
       "\n",
       "    .dataframe tbody tr th {\n",
       "        vertical-align: top;\n",
       "    }\n",
       "\n",
       "    .dataframe thead th {\n",
       "        text-align: right;\n",
       "    }\n",
       "</style>\n",
       "<table border=\"1\" class=\"dataframe\">\n",
       "  <thead>\n",
       "    <tr style=\"text-align: right;\">\n",
       "      <th></th>\n",
       "      <th>vehicle_registration</th>\n",
       "      <th>Repair_Info</th>\n",
       "      <th>Cost</th>\n",
       "      <th>Invoice_Number</th>\n",
       "      <th>Date</th>\n",
       "    </tr>\n",
       "  </thead>\n",
       "  <tbody>\n",
       "    <tr>\n",
       "      <th>0</th>\n",
       "      <td>KBU 765H</td>\n",
       "      <td>- Workshop engine oil</td>\n",
       "      <td>2730.0</td>\n",
       "      <td>35.0</td>\n",
       "      <td>2019-02-04</td>\n",
       "    </tr>\n",
       "    <tr>\n",
       "      <th>1</th>\n",
       "      <td>KBU 765H</td>\n",
       "      <td>- Nissan Oil Filters</td>\n",
       "      <td>650.0</td>\n",
       "      <td>35.0</td>\n",
       "      <td>2019-02-04</td>\n",
       "    </tr>\n",
       "    <tr>\n",
       "      <th>2</th>\n",
       "      <td>KBU 765H</td>\n",
       "      <td>- Nissan Aircleaner</td>\n",
       "      <td>1200.0</td>\n",
       "      <td>35.0</td>\n",
       "      <td>2019-02-04</td>\n",
       "    </tr>\n",
       "    <tr>\n",
       "      <th>3</th>\n",
       "      <td>KBU 765H</td>\n",
       "      <td>- Nissan Diesel / Fuel Filters</td>\n",
       "      <td>1400.0</td>\n",
       "      <td>35.0</td>\n",
       "      <td>2019-02-04</td>\n",
       "    </tr>\n",
       "    <tr>\n",
       "      <th>4</th>\n",
       "      <td>KBU 765H</td>\n",
       "      <td>- Nissan fan belts</td>\n",
       "      <td>3515.0</td>\n",
       "      <td>35.0</td>\n",
       "      <td>2019-02-04</td>\n",
       "    </tr>\n",
       "  </tbody>\n",
       "</table>\n",
       "</div>"
      ],
      "text/plain": [
       "  vehicle_registration                     Repair_Info    Cost  \\\n",
       "0             KBU 765H           - Workshop engine oil  2730.0   \n",
       "1             KBU 765H            - Nissan Oil Filters   650.0   \n",
       "2             KBU 765H             - Nissan Aircleaner  1200.0   \n",
       "3             KBU 765H  - Nissan Diesel / Fuel Filters  1400.0   \n",
       "4             KBU 765H              - Nissan fan belts  3515.0   \n",
       "\n",
       "   Invoice_Number       Date  \n",
       "0            35.0 2019-02-04  \n",
       "1            35.0 2019-02-04  \n",
       "2            35.0 2019-02-04  \n",
       "3            35.0 2019-02-04  \n",
       "4            35.0 2019-02-04  "
      ]
     },
     "execution_count": 19,
     "metadata": {},
     "output_type": "execute_result"
    }
   ],
   "source": [
    "#rearranging the table\n",
    "repair_data_clean=repair_data_clean[['vehicle_registration','Repair_Info','Cost','Invoice_Number','Date']]\n",
    "repair_data_clean.head()"
   ]
  },
  {
   "cell_type": "code",
   "execution_count": 20,
   "id": "a0f24537",
   "metadata": {},
   "outputs": [
    {
     "name": "stdout",
     "output_type": "stream",
     "text": [
      "<class 'pandas.core.frame.DataFrame'>\n",
      "RangeIndex: 9520 entries, 0 to 9519\n",
      "Data columns (total 5 columns):\n",
      " #   Column                Non-Null Count  Dtype         \n",
      "---  ------                --------------  -----         \n",
      " 0   vehicle_registration  9520 non-null   object        \n",
      " 1   Repair_Info           9514 non-null   object        \n",
      " 2   Cost                  9520 non-null   float64       \n",
      " 3   Invoice_Number        7921 non-null   float64       \n",
      " 4   Date                  9520 non-null   datetime64[ns]\n",
      "dtypes: datetime64[ns](1), float64(2), object(2)\n",
      "memory usage: 372.0+ KB\n"
     ]
    }
   ],
   "source": [
    "repair_data_clean.info()"
   ]
  },
  {
   "cell_type": "code",
   "execution_count": 21,
   "id": "ae418f05",
   "metadata": {},
   "outputs": [
    {
     "data": {
      "text/html": [
       "<div>\n",
       "<style scoped>\n",
       "    .dataframe tbody tr th:only-of-type {\n",
       "        vertical-align: middle;\n",
       "    }\n",
       "\n",
       "    .dataframe tbody tr th {\n",
       "        vertical-align: top;\n",
       "    }\n",
       "\n",
       "    .dataframe thead th {\n",
       "        text-align: right;\n",
       "    }\n",
       "</style>\n",
       "<table border=\"1\" class=\"dataframe\">\n",
       "  <thead>\n",
       "    <tr style=\"text-align: right;\">\n",
       "      <th></th>\n",
       "      <th>vehicle_registration</th>\n",
       "      <th>Repair_Info</th>\n",
       "      <th>Cost</th>\n",
       "      <th>Invoice_Number</th>\n",
       "      <th>Date</th>\n",
       "    </tr>\n",
       "  </thead>\n",
       "  <tbody>\n",
       "    <tr>\n",
       "      <th>0</th>\n",
       "      <td>KBU 765H</td>\n",
       "      <td>- Workshop engine oil</td>\n",
       "      <td>2730.0</td>\n",
       "      <td>35.0</td>\n",
       "      <td>2019-02-04</td>\n",
       "    </tr>\n",
       "    <tr>\n",
       "      <th>1</th>\n",
       "      <td>KBU 765H</td>\n",
       "      <td>- Nissan Oil Filters</td>\n",
       "      <td>650.0</td>\n",
       "      <td>35.0</td>\n",
       "      <td>2019-02-04</td>\n",
       "    </tr>\n",
       "    <tr>\n",
       "      <th>2</th>\n",
       "      <td>KBU 765H</td>\n",
       "      <td>- Nissan Aircleaner</td>\n",
       "      <td>1200.0</td>\n",
       "      <td>35.0</td>\n",
       "      <td>2019-02-04</td>\n",
       "    </tr>\n",
       "    <tr>\n",
       "      <th>3</th>\n",
       "      <td>KBU 765H</td>\n",
       "      <td>- Nissan Diesel / Fuel Filters</td>\n",
       "      <td>1400.0</td>\n",
       "      <td>35.0</td>\n",
       "      <td>2019-02-04</td>\n",
       "    </tr>\n",
       "    <tr>\n",
       "      <th>4</th>\n",
       "      <td>KBU 765H</td>\n",
       "      <td>- Nissan fan belts</td>\n",
       "      <td>3515.0</td>\n",
       "      <td>35.0</td>\n",
       "      <td>2019-02-04</td>\n",
       "    </tr>\n",
       "  </tbody>\n",
       "</table>\n",
       "</div>"
      ],
      "text/plain": [
       "  vehicle_registration                     Repair_Info    Cost  \\\n",
       "0             KBU 765H           - Workshop engine oil  2730.0   \n",
       "1             KBU 765H            - Nissan Oil Filters   650.0   \n",
       "2             KBU 765H             - Nissan Aircleaner  1200.0   \n",
       "3             KBU 765H  - Nissan Diesel / Fuel Filters  1400.0   \n",
       "4             KBU 765H              - Nissan fan belts  3515.0   \n",
       "\n",
       "   Invoice_Number       Date  \n",
       "0            35.0 2019-02-04  \n",
       "1            35.0 2019-02-04  \n",
       "2            35.0 2019-02-04  \n",
       "3            35.0 2019-02-04  \n",
       "4            35.0 2019-02-04  "
      ]
     },
     "execution_count": 21,
     "metadata": {},
     "output_type": "execute_result"
    }
   ],
   "source": [
    "repair_data_clean.head()"
   ]
  },
  {
   "cell_type": "code",
   "execution_count": 25,
   "id": "2bf568c0",
   "metadata": {},
   "outputs": [
    {
     "data": {
      "text/plain": [
       "0       2730.0\n",
       "1        650.0\n",
       "2       1200.0\n",
       "3       1400.0\n",
       "4       3515.0\n",
       "         ...  \n",
       "9515    3200.0\n",
       "9516    1400.0\n",
       "9517    4600.0\n",
       "9518    4600.0\n",
       "9519    4600.0\n",
       "Name: Cost, Length: 9520, dtype: float64"
      ]
     },
     "execution_count": 25,
     "metadata": {},
     "output_type": "execute_result"
    }
   ],
   "source": [
    "#some entries in the cost column were in -ve to indicate credit so i changed the to positive values\n",
    "repair_data_clean['Cost'] = repair_data_clean['Cost'].abs()\n",
    "repair_data_clean['Cost']"
   ]
  },
  {
   "cell_type": "markdown",
   "id": "de8dbedf",
   "metadata": {},
   "source": [
    "<h1>Visualization<h1/>\n",
    "<h2>First, we want to find out the cost of repairs per year<h2/>"
   ]
  },
  {
   "cell_type": "markdown",
   "id": "8ba4f138",
   "metadata": {},
   "source": [
    "I have sepearated the date into month day and year with the code below"
   ]
  },
  {
   "cell_type": "code",
   "execution_count": 22,
   "id": "63bf9234",
   "metadata": {},
   "outputs": [
    {
     "data": {
      "text/html": [
       "<div>\n",
       "<style scoped>\n",
       "    .dataframe tbody tr th:only-of-type {\n",
       "        vertical-align: middle;\n",
       "    }\n",
       "\n",
       "    .dataframe tbody tr th {\n",
       "        vertical-align: top;\n",
       "    }\n",
       "\n",
       "    .dataframe thead th {\n",
       "        text-align: right;\n",
       "    }\n",
       "</style>\n",
       "<table border=\"1\" class=\"dataframe\">\n",
       "  <thead>\n",
       "    <tr style=\"text-align: right;\">\n",
       "      <th></th>\n",
       "      <th>vehicle_registration</th>\n",
       "      <th>Repair_Info</th>\n",
       "      <th>Cost</th>\n",
       "      <th>Invoice_Number</th>\n",
       "      <th>Date</th>\n",
       "      <th>day</th>\n",
       "      <th>month</th>\n",
       "      <th>year</th>\n",
       "    </tr>\n",
       "  </thead>\n",
       "  <tbody>\n",
       "    <tr>\n",
       "      <th>0</th>\n",
       "      <td>KBU 765H</td>\n",
       "      <td>- Workshop engine oil</td>\n",
       "      <td>2730.0</td>\n",
       "      <td>35.0</td>\n",
       "      <td>2019-02-04</td>\n",
       "      <td>4</td>\n",
       "      <td>2</td>\n",
       "      <td>2019</td>\n",
       "    </tr>\n",
       "    <tr>\n",
       "      <th>1</th>\n",
       "      <td>KBU 765H</td>\n",
       "      <td>- Nissan Oil Filters</td>\n",
       "      <td>650.0</td>\n",
       "      <td>35.0</td>\n",
       "      <td>2019-02-04</td>\n",
       "      <td>4</td>\n",
       "      <td>2</td>\n",
       "      <td>2019</td>\n",
       "    </tr>\n",
       "    <tr>\n",
       "      <th>2</th>\n",
       "      <td>KBU 765H</td>\n",
       "      <td>- Nissan Aircleaner</td>\n",
       "      <td>1200.0</td>\n",
       "      <td>35.0</td>\n",
       "      <td>2019-02-04</td>\n",
       "      <td>4</td>\n",
       "      <td>2</td>\n",
       "      <td>2019</td>\n",
       "    </tr>\n",
       "    <tr>\n",
       "      <th>3</th>\n",
       "      <td>KBU 765H</td>\n",
       "      <td>- Nissan Diesel / Fuel Filters</td>\n",
       "      <td>1400.0</td>\n",
       "      <td>35.0</td>\n",
       "      <td>2019-02-04</td>\n",
       "      <td>4</td>\n",
       "      <td>2</td>\n",
       "      <td>2019</td>\n",
       "    </tr>\n",
       "    <tr>\n",
       "      <th>4</th>\n",
       "      <td>KBU 765H</td>\n",
       "      <td>- Nissan fan belts</td>\n",
       "      <td>3515.0</td>\n",
       "      <td>35.0</td>\n",
       "      <td>2019-02-04</td>\n",
       "      <td>4</td>\n",
       "      <td>2</td>\n",
       "      <td>2019</td>\n",
       "    </tr>\n",
       "  </tbody>\n",
       "</table>\n",
       "</div>"
      ],
      "text/plain": [
       "  vehicle_registration                     Repair_Info    Cost  \\\n",
       "0             KBU 765H           - Workshop engine oil  2730.0   \n",
       "1             KBU 765H            - Nissan Oil Filters   650.0   \n",
       "2             KBU 765H             - Nissan Aircleaner  1200.0   \n",
       "3             KBU 765H  - Nissan Diesel / Fuel Filters  1400.0   \n",
       "4             KBU 765H              - Nissan fan belts  3515.0   \n",
       "\n",
       "   Invoice_Number       Date  day  month  year  \n",
       "0            35.0 2019-02-04    4      2  2019  \n",
       "1            35.0 2019-02-04    4      2  2019  \n",
       "2            35.0 2019-02-04    4      2  2019  \n",
       "3            35.0 2019-02-04    4      2  2019  \n",
       "4            35.0 2019-02-04    4      2  2019  "
      ]
     },
     "execution_count": 22,
     "metadata": {},
     "output_type": "execute_result"
    }
   ],
   "source": [
    "repair_data_clean[\"day\"] = repair_data_clean['Date'].map(lambda x: x.day)\n",
    "repair_data_clean[\"month\"] = repair_data_clean['Date'].map(lambda x: x.month)\n",
    "repair_data_clean[\"year\"] = repair_data_clean['Date'].map(lambda x: x.year)\n",
    "repair_data_clean.head()"
   ]
  },
  {
   "cell_type": "code",
   "execution_count": 26,
   "id": "c2edf912",
   "metadata": {},
   "outputs": [
    {
     "data": {
      "image/png": "[encoded data removed]",
      "text/plain": [
       "<Figure size 432x288 with 1 Axes>"
      ]
     },
     "metadata": {
      "needs_background": "light"
     },
     "output_type": "display_data"
    }
   ],
   "source": [
    "sns.barplot(x = 'year',\n",
    "            y = 'Cost',\n",
    "            data = repair_data_clean)\n",
    " \n",
    "# Show the plot\n",
    "plt.show()"
   ]
  },
  {
   "cell_type": "markdown",
   "id": "8ec05c93",
   "metadata": {},
   "source": [
    "From the barplot above, 20 is the year with the most repairs"
   ]
  },
  {
   "cell_type": "markdown",
   "id": "af47c90a",
   "metadata": {},
   "source": []
  },
  {
   "cell_type": "markdown",
   "id": "790ec5c1",
   "metadata": {},
   "source": [
    "<h2>To find out in which quarter were most repairs done per year<h2/>"
   ]
  },
  {
   "cell_type": "code",
   "execution_count": 27,
   "id": "a58f570f",
   "metadata": {},
   "outputs": [
    {
     "data": {
      "image/png": "[encoded data removed]",
      "text/plain": [
       "<Figure size 1152x864 with 1 Axes>"
      ]
     },
     "metadata": {
      "needs_background": "light"
     },
     "output_type": "display_data"
    }
   ],
   "source": [
    "plt.figure(figsize = (16,12)) \n",
    "sns.lineplot(x = \"month\", y = \"Cost\", data = repair_data_clean, hue = \"year\",palette='viridis')\n",
    "plt.show()"
   ]
  },
  {
   "cell_type": "markdown",
   "id": "8308e0b4",
   "metadata": {},
   "source": [
    "Most repairs were done in the first and last quarter consistently throughout the years"
   ]
  },
  {
   "cell_type": "code",
   "execution_count": null,
   "id": "0eea5395",
   "metadata": {},
   "outputs": [],
   "source": []
  },
  {
   "cell_type": "code",
   "execution_count": null,
   "id": "ab5d1e36",
   "metadata": {},
   "outputs": [],
   "source": []
  },
  {
   "cell_type": "code",
   "execution_count": null,
   "id": "26be5375",
   "metadata": {},
   "outputs": [],
   "source": []
  }
 ],
 "metadata": {
  "kernelspec": {
   "display_name": "Python 3 (ipykernel)",
   "language": "python",
   "name": "python3"
  },
  "language_info": {
   "codemirror_mode": {
    "name": "ipython",
    "version": 3
   },
   "file_extension": ".py",
   "mimetype": "text/x-python",
   "name": "python",
   "nbconvert_exporter": "python",
   "pygments_lexer": "ipython3",
   "version": "3.9.12"
  }
 },
 "nbformat": 4,
 "nbformat_minor": 5
}
